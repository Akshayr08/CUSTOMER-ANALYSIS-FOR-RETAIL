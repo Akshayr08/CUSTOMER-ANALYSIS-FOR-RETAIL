{
 "cells": [
  {
   "cell_type": "code",
   "execution_count": 1,
   "metadata": {},
   "outputs": [],
   "source": [
    "import pandas as pd\n",
    "import numpy as np\n",
    "import matplotlib.pyplot as plt\n",
    "import seaborn as sns"
   ]
  },
  {
   "cell_type": "code",
   "execution_count": 2,
   "metadata": {},
   "outputs": [],
   "source": [
    "customer = pd.read_csv('D:/Analytics class/PROJECT/Python/Python Foundation Case Study 1 - Retail Case Study/Customer.csv')\n",
    "prodcat = pd.read_csv('D:/Analytics class/PROJECT/Python/Python Foundation Case Study 1 - Retail Case Study/prod_cat_info.csv')\n",
    "transactions = pd.read_csv('D:/Analytics class/PROJECT/Python/Python Foundation Case Study 1 - Retail Case Study/Transactions.csv')"
   ]
  },
  {
   "cell_type": "code",
   "execution_count": 3,
   "metadata": {},
   "outputs": [
    {
     "data": {
      "text/html": [
       "<div>\n",
       "<style scoped>\n",
       "    .dataframe tbody tr th:only-of-type {\n",
       "        vertical-align: middle;\n",
       "    }\n",
       "\n",
       "    .dataframe tbody tr th {\n",
       "        vertical-align: top;\n",
       "    }\n",
       "\n",
       "    .dataframe thead th {\n",
       "        text-align: right;\n",
       "    }\n",
       "</style>\n",
       "<table border=\"1\" class=\"dataframe\">\n",
       "  <thead>\n",
       "    <tr style=\"text-align: right;\">\n",
       "      <th></th>\n",
       "      <th>customer_Id</th>\n",
       "      <th>DOB</th>\n",
       "      <th>Gender</th>\n",
       "      <th>city_code</th>\n",
       "    </tr>\n",
       "  </thead>\n",
       "  <tbody>\n",
       "    <tr>\n",
       "      <th>0</th>\n",
       "      <td>268408</td>\n",
       "      <td>02-01-1970</td>\n",
       "      <td>M</td>\n",
       "      <td>4.0</td>\n",
       "    </tr>\n",
       "    <tr>\n",
       "      <th>1</th>\n",
       "      <td>269696</td>\n",
       "      <td>07-01-1970</td>\n",
       "      <td>F</td>\n",
       "      <td>8.0</td>\n",
       "    </tr>\n",
       "  </tbody>\n",
       "</table>\n",
       "</div>"
      ],
      "text/plain": [
       "   customer_Id         DOB Gender  city_code\n",
       "0       268408  02-01-1970      M        4.0\n",
       "1       269696  07-01-1970      F        8.0"
      ]
     },
     "execution_count": 3,
     "metadata": {},
     "output_type": "execute_result"
    }
   ],
   "source": [
    "customer.head(2)"
   ]
  },
  {
   "cell_type": "code",
   "execution_count": 4,
   "metadata": {},
   "outputs": [
    {
     "data": {
      "text/html": [
       "<div>\n",
       "<style scoped>\n",
       "    .dataframe tbody tr th:only-of-type {\n",
       "        vertical-align: middle;\n",
       "    }\n",
       "\n",
       "    .dataframe tbody tr th {\n",
       "        vertical-align: top;\n",
       "    }\n",
       "\n",
       "    .dataframe thead th {\n",
       "        text-align: right;\n",
       "    }\n",
       "</style>\n",
       "<table border=\"1\" class=\"dataframe\">\n",
       "  <thead>\n",
       "    <tr style=\"text-align: right;\">\n",
       "      <th></th>\n",
       "      <th>prod_cat_code</th>\n",
       "      <th>prod_cat</th>\n",
       "      <th>prod_sub_cat_code</th>\n",
       "      <th>prod_subcat</th>\n",
       "    </tr>\n",
       "  </thead>\n",
       "  <tbody>\n",
       "    <tr>\n",
       "      <th>0</th>\n",
       "      <td>1</td>\n",
       "      <td>Clothing</td>\n",
       "      <td>4</td>\n",
       "      <td>Mens</td>\n",
       "    </tr>\n",
       "    <tr>\n",
       "      <th>1</th>\n",
       "      <td>1</td>\n",
       "      <td>Clothing</td>\n",
       "      <td>1</td>\n",
       "      <td>Women</td>\n",
       "    </tr>\n",
       "  </tbody>\n",
       "</table>\n",
       "</div>"
      ],
      "text/plain": [
       "   prod_cat_code  prod_cat  prod_sub_cat_code prod_subcat\n",
       "0              1  Clothing                  4        Mens\n",
       "1              1  Clothing                  1       Women"
      ]
     },
     "execution_count": 4,
     "metadata": {},
     "output_type": "execute_result"
    }
   ],
   "source": [
    "prodcat.head(2)"
   ]
  },
  {
   "cell_type": "code",
   "execution_count": 5,
   "metadata": {},
   "outputs": [
    {
     "data": {
      "text/html": [
       "<div>\n",
       "<style scoped>\n",
       "    .dataframe tbody tr th:only-of-type {\n",
       "        vertical-align: middle;\n",
       "    }\n",
       "\n",
       "    .dataframe tbody tr th {\n",
       "        vertical-align: top;\n",
       "    }\n",
       "\n",
       "    .dataframe thead th {\n",
       "        text-align: right;\n",
       "    }\n",
       "</style>\n",
       "<table border=\"1\" class=\"dataframe\">\n",
       "  <thead>\n",
       "    <tr style=\"text-align: right;\">\n",
       "      <th></th>\n",
       "      <th>transaction_id</th>\n",
       "      <th>cust_id</th>\n",
       "      <th>tran_date</th>\n",
       "      <th>prod_subcat_code</th>\n",
       "      <th>prod_cat_code</th>\n",
       "      <th>Qty</th>\n",
       "      <th>Rate</th>\n",
       "      <th>Tax</th>\n",
       "      <th>total_amt</th>\n",
       "      <th>Store_type</th>\n",
       "    </tr>\n",
       "  </thead>\n",
       "  <tbody>\n",
       "    <tr>\n",
       "      <th>0</th>\n",
       "      <td>80712190438</td>\n",
       "      <td>270351</td>\n",
       "      <td>28-02-2014</td>\n",
       "      <td>1</td>\n",
       "      <td>1</td>\n",
       "      <td>-5</td>\n",
       "      <td>-772</td>\n",
       "      <td>405.300</td>\n",
       "      <td>-4265.300</td>\n",
       "      <td>e-Shop</td>\n",
       "    </tr>\n",
       "    <tr>\n",
       "      <th>1</th>\n",
       "      <td>29258453508</td>\n",
       "      <td>270384</td>\n",
       "      <td>27-02-2014</td>\n",
       "      <td>5</td>\n",
       "      <td>3</td>\n",
       "      <td>-5</td>\n",
       "      <td>-1497</td>\n",
       "      <td>785.925</td>\n",
       "      <td>-8270.925</td>\n",
       "      <td>e-Shop</td>\n",
       "    </tr>\n",
       "  </tbody>\n",
       "</table>\n",
       "</div>"
      ],
      "text/plain": [
       "   transaction_id  cust_id   tran_date  prod_subcat_code  prod_cat_code  Qty  \\\n",
       "0     80712190438   270351  28-02-2014                 1              1   -5   \n",
       "1     29258453508   270384  27-02-2014                 5              3   -5   \n",
       "\n",
       "   Rate      Tax  total_amt Store_type  \n",
       "0  -772  405.300  -4265.300     e-Shop  \n",
       "1 -1497  785.925  -8270.925     e-Shop  "
      ]
     },
     "execution_count": 5,
     "metadata": {},
     "output_type": "execute_result"
    }
   ],
   "source": [
    "transactions.head(2)"
   ]
  },
  {
   "cell_type": "markdown",
   "metadata": {},
   "source": [
    "### 1. Merge the datasets Customers, Product Hierarchy and Transactions as Customer_Final. "
   ]
  },
  {
   "cell_type": "code",
   "execution_count": 6,
   "metadata": {},
   "outputs": [],
   "source": [
    "customer_final = pd.merge( left = customer , right= transactions ,how = 'right' ,left_on= 'customer_Id',  right_on= 'cust_id' )"
   ]
  },
  {
   "cell_type": "code",
   "execution_count": 7,
   "metadata": {},
   "outputs": [],
   "source": [
    "customer_final = pd.merge( left = customer_final , right= prodcat ,how = 'left',  left_on = ['prod_subcat_code' , 'prod_cat_code'] , right_on=['prod_sub_cat_code','prod_cat_code']  )"
   ]
  },
  {
   "cell_type": "code",
   "execution_count": 8,
   "metadata": {},
   "outputs": [
    {
     "data": {
      "text/html": [
       "<div>\n",
       "<style scoped>\n",
       "    .dataframe tbody tr th:only-of-type {\n",
       "        vertical-align: middle;\n",
       "    }\n",
       "\n",
       "    .dataframe tbody tr th {\n",
       "        vertical-align: top;\n",
       "    }\n",
       "\n",
       "    .dataframe thead th {\n",
       "        text-align: right;\n",
       "    }\n",
       "</style>\n",
       "<table border=\"1\" class=\"dataframe\">\n",
       "  <thead>\n",
       "    <tr style=\"text-align: right;\">\n",
       "      <th></th>\n",
       "      <th>customer_Id</th>\n",
       "      <th>DOB</th>\n",
       "      <th>Gender</th>\n",
       "      <th>city_code</th>\n",
       "      <th>transaction_id</th>\n",
       "      <th>tran_date</th>\n",
       "      <th>prod_subcat_code</th>\n",
       "      <th>prod_cat_code</th>\n",
       "      <th>Qty</th>\n",
       "      <th>Rate</th>\n",
       "      <th>Tax</th>\n",
       "      <th>total_amt</th>\n",
       "      <th>Store_type</th>\n",
       "      <th>prod_cat</th>\n",
       "      <th>prod_subcat</th>\n",
       "    </tr>\n",
       "  </thead>\n",
       "  <tbody>\n",
       "    <tr>\n",
       "      <th>0</th>\n",
       "      <td>270351</td>\n",
       "      <td>26-09-1981</td>\n",
       "      <td>M</td>\n",
       "      <td>5.0</td>\n",
       "      <td>80712190438</td>\n",
       "      <td>28-02-2014</td>\n",
       "      <td>1</td>\n",
       "      <td>1</td>\n",
       "      <td>-5</td>\n",
       "      <td>-772</td>\n",
       "      <td>405.3</td>\n",
       "      <td>-4265.3</td>\n",
       "      <td>e-Shop</td>\n",
       "      <td>Clothing</td>\n",
       "      <td>Women</td>\n",
       "    </tr>\n",
       "    <tr>\n",
       "      <th>1</th>\n",
       "      <td>270351</td>\n",
       "      <td>26-09-1981</td>\n",
       "      <td>M</td>\n",
       "      <td>5.0</td>\n",
       "      <td>80712190438</td>\n",
       "      <td>20-02-2014</td>\n",
       "      <td>1</td>\n",
       "      <td>1</td>\n",
       "      <td>5</td>\n",
       "      <td>772</td>\n",
       "      <td>405.3</td>\n",
       "      <td>4265.3</td>\n",
       "      <td>e-Shop</td>\n",
       "      <td>Clothing</td>\n",
       "      <td>Women</td>\n",
       "    </tr>\n",
       "  </tbody>\n",
       "</table>\n",
       "</div>"
      ],
      "text/plain": [
       "   customer_Id         DOB Gender  city_code  transaction_id   tran_date  \\\n",
       "0       270351  26-09-1981      M        5.0     80712190438  28-02-2014   \n",
       "1       270351  26-09-1981      M        5.0     80712190438  20-02-2014   \n",
       "\n",
       "   prod_subcat_code  prod_cat_code  Qty  Rate    Tax  total_amt Store_type  \\\n",
       "0                 1              1   -5  -772  405.3    -4265.3     e-Shop   \n",
       "1                 1              1    5   772  405.3     4265.3     e-Shop   \n",
       "\n",
       "   prod_cat prod_subcat  \n",
       "0  Clothing       Women  \n",
       "1  Clothing       Women  "
      ]
     },
     "execution_count": 8,
     "metadata": {},
     "output_type": "execute_result"
    }
   ],
   "source": [
    "customer_final.drop(labels= ['cust_id' ,'prod_sub_cat_code'],  axis= 1 , inplace= True)\n",
    "customer_final.head(2)"
   ]
  },
  {
   "cell_type": "markdown",
   "metadata": {},
   "source": [
    "### 2. Prepare a summary report for the merged data set."
   ]
  },
  {
   "cell_type": "code",
   "execution_count": 9,
   "metadata": {},
   "outputs": [
    {
     "data": {
      "text/plain": [
       "customer_Id           int64\n",
       "DOB                  object\n",
       "Gender               object\n",
       "city_code           float64\n",
       "transaction_id        int64\n",
       "tran_date            object\n",
       "prod_subcat_code      int64\n",
       "prod_cat_code         int64\n",
       "Qty                   int64\n",
       "Rate                  int64\n",
       "Tax                 float64\n",
       "total_amt           float64\n",
       "Store_type           object\n",
       "prod_cat             object\n",
       "prod_subcat          object\n",
       "dtype: object"
      ]
     },
     "execution_count": 9,
     "metadata": {},
     "output_type": "execute_result"
    }
   ],
   "source": [
    "# a. Get the column names and their corresponding data types\n",
    "customer_final.dtypes"
   ]
  },
  {
   "cell_type": "code",
   "execution_count": 10,
   "metadata": {},
   "outputs": [],
   "source": [
    "# changing DOB to datetime \n",
    "customer_final['DOB'] = pd.to_datetime(customer_final['DOB'], format = ('%d-%m-%Y') )"
   ]
  },
  {
   "cell_type": "code",
   "execution_count": 11,
   "metadata": {},
   "outputs": [],
   "source": [
    "customer_final['tran_date'] = pd.to_datetime(customer_final['tran_date'])"
   ]
  },
  {
   "cell_type": "code",
   "execution_count": 12,
   "metadata": {},
   "outputs": [
    {
     "data": {
      "text/html": [
       "<div>\n",
       "<style scoped>\n",
       "    .dataframe tbody tr th:only-of-type {\n",
       "        vertical-align: middle;\n",
       "    }\n",
       "\n",
       "    .dataframe tbody tr th {\n",
       "        vertical-align: top;\n",
       "    }\n",
       "\n",
       "    .dataframe thead th {\n",
       "        text-align: right;\n",
       "    }\n",
       "</style>\n",
       "<table border=\"1\" class=\"dataframe\">\n",
       "  <thead>\n",
       "    <tr style=\"text-align: right;\">\n",
       "      <th></th>\n",
       "      <th>customer_Id</th>\n",
       "      <th>DOB</th>\n",
       "      <th>Gender</th>\n",
       "      <th>city_code</th>\n",
       "      <th>transaction_id</th>\n",
       "      <th>tran_date</th>\n",
       "      <th>prod_subcat_code</th>\n",
       "      <th>prod_cat_code</th>\n",
       "      <th>Qty</th>\n",
       "      <th>Rate</th>\n",
       "      <th>Tax</th>\n",
       "      <th>total_amt</th>\n",
       "      <th>Store_type</th>\n",
       "      <th>prod_cat</th>\n",
       "      <th>prod_subcat</th>\n",
       "    </tr>\n",
       "  </thead>\n",
       "  <tbody>\n",
       "    <tr>\n",
       "      <th>0</th>\n",
       "      <td>270351</td>\n",
       "      <td>1981-09-26</td>\n",
       "      <td>M</td>\n",
       "      <td>5.0</td>\n",
       "      <td>80712190438</td>\n",
       "      <td>2014-02-28</td>\n",
       "      <td>1</td>\n",
       "      <td>1</td>\n",
       "      <td>-5</td>\n",
       "      <td>-772</td>\n",
       "      <td>405.300</td>\n",
       "      <td>-4265.300</td>\n",
       "      <td>e-Shop</td>\n",
       "      <td>Clothing</td>\n",
       "      <td>Women</td>\n",
       "    </tr>\n",
       "    <tr>\n",
       "      <th>1</th>\n",
       "      <td>270351</td>\n",
       "      <td>1981-09-26</td>\n",
       "      <td>M</td>\n",
       "      <td>5.0</td>\n",
       "      <td>80712190438</td>\n",
       "      <td>2014-02-20</td>\n",
       "      <td>1</td>\n",
       "      <td>1</td>\n",
       "      <td>5</td>\n",
       "      <td>772</td>\n",
       "      <td>405.300</td>\n",
       "      <td>4265.300</td>\n",
       "      <td>e-Shop</td>\n",
       "      <td>Clothing</td>\n",
       "      <td>Women</td>\n",
       "    </tr>\n",
       "    <tr>\n",
       "      <th>2</th>\n",
       "      <td>270351</td>\n",
       "      <td>1981-09-26</td>\n",
       "      <td>M</td>\n",
       "      <td>5.0</td>\n",
       "      <td>36957441426</td>\n",
       "      <td>2013-09-16</td>\n",
       "      <td>3</td>\n",
       "      <td>2</td>\n",
       "      <td>3</td>\n",
       "      <td>361</td>\n",
       "      <td>113.715</td>\n",
       "      <td>1196.715</td>\n",
       "      <td>Flagship store</td>\n",
       "      <td>Footwear</td>\n",
       "      <td>Women</td>\n",
       "    </tr>\n",
       "    <tr>\n",
       "      <th>3</th>\n",
       "      <td>270351</td>\n",
       "      <td>1981-09-26</td>\n",
       "      <td>M</td>\n",
       "      <td>5.0</td>\n",
       "      <td>12236277258</td>\n",
       "      <td>2013-03-18</td>\n",
       "      <td>8</td>\n",
       "      <td>3</td>\n",
       "      <td>3</td>\n",
       "      <td>1030</td>\n",
       "      <td>324.450</td>\n",
       "      <td>3414.450</td>\n",
       "      <td>e-Shop</td>\n",
       "      <td>Electronics</td>\n",
       "      <td>Personal Appliances</td>\n",
       "    </tr>\n",
       "    <tr>\n",
       "      <th>4</th>\n",
       "      <td>270351</td>\n",
       "      <td>1981-09-26</td>\n",
       "      <td>M</td>\n",
       "      <td>5.0</td>\n",
       "      <td>13181563739</td>\n",
       "      <td>2011-12-13</td>\n",
       "      <td>6</td>\n",
       "      <td>5</td>\n",
       "      <td>1</td>\n",
       "      <td>1048</td>\n",
       "      <td>110.040</td>\n",
       "      <td>1158.040</td>\n",
       "      <td>e-Shop</td>\n",
       "      <td>Books</td>\n",
       "      <td>DIY</td>\n",
       "    </tr>\n",
       "    <tr>\n",
       "      <th>5</th>\n",
       "      <td>270384</td>\n",
       "      <td>1973-05-11</td>\n",
       "      <td>F</td>\n",
       "      <td>8.0</td>\n",
       "      <td>29258453508</td>\n",
       "      <td>2014-02-27</td>\n",
       "      <td>5</td>\n",
       "      <td>3</td>\n",
       "      <td>-5</td>\n",
       "      <td>-1497</td>\n",
       "      <td>785.925</td>\n",
       "      <td>-8270.925</td>\n",
       "      <td>e-Shop</td>\n",
       "      <td>Electronics</td>\n",
       "      <td>Computers</td>\n",
       "    </tr>\n",
       "    <tr>\n",
       "      <th>6</th>\n",
       "      <td>270384</td>\n",
       "      <td>1973-05-11</td>\n",
       "      <td>F</td>\n",
       "      <td>8.0</td>\n",
       "      <td>29258453508</td>\n",
       "      <td>2014-02-20</td>\n",
       "      <td>5</td>\n",
       "      <td>3</td>\n",
       "      <td>5</td>\n",
       "      <td>1497</td>\n",
       "      <td>785.925</td>\n",
       "      <td>8270.925</td>\n",
       "      <td>e-Shop</td>\n",
       "      <td>Electronics</td>\n",
       "      <td>Computers</td>\n",
       "    </tr>\n",
       "    <tr>\n",
       "      <th>7</th>\n",
       "      <td>270384</td>\n",
       "      <td>1973-05-11</td>\n",
       "      <td>F</td>\n",
       "      <td>8.0</td>\n",
       "      <td>92734514344</td>\n",
       "      <td>2013-10-26</td>\n",
       "      <td>1</td>\n",
       "      <td>4</td>\n",
       "      <td>2</td>\n",
       "      <td>1362</td>\n",
       "      <td>286.020</td>\n",
       "      <td>3010.020</td>\n",
       "      <td>TeleShop</td>\n",
       "      <td>Bags</td>\n",
       "      <td>Mens</td>\n",
       "    </tr>\n",
       "    <tr>\n",
       "      <th>8</th>\n",
       "      <td>270384</td>\n",
       "      <td>1973-05-11</td>\n",
       "      <td>F</td>\n",
       "      <td>8.0</td>\n",
       "      <td>865952996</td>\n",
       "      <td>2013-06-08</td>\n",
       "      <td>12</td>\n",
       "      <td>6</td>\n",
       "      <td>2</td>\n",
       "      <td>86</td>\n",
       "      <td>18.060</td>\n",
       "      <td>190.060</td>\n",
       "      <td>MBR</td>\n",
       "      <td>Home and kitchen</td>\n",
       "      <td>Tools</td>\n",
       "    </tr>\n",
       "    <tr>\n",
       "      <th>9</th>\n",
       "      <td>270384</td>\n",
       "      <td>1973-05-11</td>\n",
       "      <td>F</td>\n",
       "      <td>8.0</td>\n",
       "      <td>4116651679</td>\n",
       "      <td>2013-06-08</td>\n",
       "      <td>6</td>\n",
       "      <td>5</td>\n",
       "      <td>1</td>\n",
       "      <td>1343</td>\n",
       "      <td>141.015</td>\n",
       "      <td>1484.015</td>\n",
       "      <td>TeleShop</td>\n",
       "      <td>Books</td>\n",
       "      <td>DIY</td>\n",
       "    </tr>\n",
       "  </tbody>\n",
       "</table>\n",
       "</div>"
      ],
      "text/plain": [
       "   customer_Id        DOB Gender  city_code  transaction_id  tran_date  \\\n",
       "0       270351 1981-09-26      M        5.0     80712190438 2014-02-28   \n",
       "1       270351 1981-09-26      M        5.0     80712190438 2014-02-20   \n",
       "2       270351 1981-09-26      M        5.0     36957441426 2013-09-16   \n",
       "3       270351 1981-09-26      M        5.0     12236277258 2013-03-18   \n",
       "4       270351 1981-09-26      M        5.0     13181563739 2011-12-13   \n",
       "5       270384 1973-05-11      F        8.0     29258453508 2014-02-27   \n",
       "6       270384 1973-05-11      F        8.0     29258453508 2014-02-20   \n",
       "7       270384 1973-05-11      F        8.0     92734514344 2013-10-26   \n",
       "8       270384 1973-05-11      F        8.0       865952996 2013-06-08   \n",
       "9       270384 1973-05-11      F        8.0      4116651679 2013-06-08   \n",
       "\n",
       "   prod_subcat_code  prod_cat_code  Qty  Rate      Tax  total_amt  \\\n",
       "0                 1              1   -5  -772  405.300  -4265.300   \n",
       "1                 1              1    5   772  405.300   4265.300   \n",
       "2                 3              2    3   361  113.715   1196.715   \n",
       "3                 8              3    3  1030  324.450   3414.450   \n",
       "4                 6              5    1  1048  110.040   1158.040   \n",
       "5                 5              3   -5 -1497  785.925  -8270.925   \n",
       "6                 5              3    5  1497  785.925   8270.925   \n",
       "7                 1              4    2  1362  286.020   3010.020   \n",
       "8                12              6    2    86   18.060    190.060   \n",
       "9                 6              5    1  1343  141.015   1484.015   \n",
       "\n",
       "       Store_type          prod_cat          prod_subcat  \n",
       "0          e-Shop          Clothing                Women  \n",
       "1          e-Shop          Clothing                Women  \n",
       "2  Flagship store          Footwear                Women  \n",
       "3          e-Shop       Electronics  Personal Appliances  \n",
       "4          e-Shop             Books                  DIY  \n",
       "5          e-Shop       Electronics            Computers  \n",
       "6          e-Shop       Electronics            Computers  \n",
       "7        TeleShop              Bags                 Mens  \n",
       "8             MBR  Home and kitchen                Tools  \n",
       "9        TeleShop             Books                  DIY  "
      ]
     },
     "execution_count": 12,
     "metadata": {},
     "output_type": "execute_result"
    }
   ],
   "source": [
    "# b. Top/Bottom 10 observations\n",
    "customer_final.head(10)"
   ]
  },
  {
   "cell_type": "code",
   "execution_count": 13,
   "metadata": {},
   "outputs": [
    {
     "data": {
      "text/html": [
       "<div>\n",
       "<style scoped>\n",
       "    .dataframe tbody tr th:only-of-type {\n",
       "        vertical-align: middle;\n",
       "    }\n",
       "\n",
       "    .dataframe tbody tr th {\n",
       "        vertical-align: top;\n",
       "    }\n",
       "\n",
       "    .dataframe thead th {\n",
       "        text-align: right;\n",
       "    }\n",
       "</style>\n",
       "<table border=\"1\" class=\"dataframe\">\n",
       "  <thead>\n",
       "    <tr style=\"text-align: right;\">\n",
       "      <th></th>\n",
       "      <th>Qty</th>\n",
       "      <th>Rate</th>\n",
       "      <th>Tax</th>\n",
       "      <th>total_amt</th>\n",
       "    </tr>\n",
       "  </thead>\n",
       "  <tbody>\n",
       "    <tr>\n",
       "      <th>count</th>\n",
       "      <td>23053.000000</td>\n",
       "      <td>23053.000000</td>\n",
       "      <td>23053.000000</td>\n",
       "      <td>23053.000000</td>\n",
       "    </tr>\n",
       "    <tr>\n",
       "      <th>mean</th>\n",
       "      <td>2.432395</td>\n",
       "      <td>636.369713</td>\n",
       "      <td>248.667192</td>\n",
       "      <td>2107.308002</td>\n",
       "    </tr>\n",
       "    <tr>\n",
       "      <th>std</th>\n",
       "      <td>2.268406</td>\n",
       "      <td>622.363498</td>\n",
       "      <td>187.177773</td>\n",
       "      <td>2507.561264</td>\n",
       "    </tr>\n",
       "    <tr>\n",
       "      <th>min</th>\n",
       "      <td>-5.000000</td>\n",
       "      <td>-1499.000000</td>\n",
       "      <td>7.350000</td>\n",
       "      <td>-8270.925000</td>\n",
       "    </tr>\n",
       "    <tr>\n",
       "      <th>25%</th>\n",
       "      <td>1.000000</td>\n",
       "      <td>312.000000</td>\n",
       "      <td>98.280000</td>\n",
       "      <td>762.450000</td>\n",
       "    </tr>\n",
       "    <tr>\n",
       "      <th>50%</th>\n",
       "      <td>3.000000</td>\n",
       "      <td>710.000000</td>\n",
       "      <td>199.080000</td>\n",
       "      <td>1754.740000</td>\n",
       "    </tr>\n",
       "    <tr>\n",
       "      <th>75%</th>\n",
       "      <td>4.000000</td>\n",
       "      <td>1109.000000</td>\n",
       "      <td>365.715000</td>\n",
       "      <td>3569.150000</td>\n",
       "    </tr>\n",
       "    <tr>\n",
       "      <th>max</th>\n",
       "      <td>5.000000</td>\n",
       "      <td>1500.000000</td>\n",
       "      <td>787.500000</td>\n",
       "      <td>8287.500000</td>\n",
       "    </tr>\n",
       "  </tbody>\n",
       "</table>\n",
       "</div>"
      ],
      "text/plain": [
       "                Qty          Rate           Tax     total_amt\n",
       "count  23053.000000  23053.000000  23053.000000  23053.000000\n",
       "mean       2.432395    636.369713    248.667192   2107.308002\n",
       "std        2.268406    622.363498    187.177773   2507.561264\n",
       "min       -5.000000  -1499.000000      7.350000  -8270.925000\n",
       "25%        1.000000    312.000000     98.280000    762.450000\n",
       "50%        3.000000    710.000000    199.080000   1754.740000\n",
       "75%        4.000000   1109.000000    365.715000   3569.150000\n",
       "max        5.000000   1500.000000    787.500000   8287.500000"
      ]
     },
     "execution_count": 13,
     "metadata": {},
     "output_type": "execute_result"
    }
   ],
   "source": [
    "# c. “Five-number summary” for continuous variables (min, Q1, median, Q3 and max)\n",
    "customer_final[['Qty','Rate','Tax','total_amt']].describe()"
   ]
  },
  {
   "cell_type": "code",
   "execution_count": 14,
   "metadata": {},
   "outputs": [
    {
     "data": {
      "text/html": [
       "<div>\n",
       "<style scoped>\n",
       "    .dataframe tbody tr th:only-of-type {\n",
       "        vertical-align: middle;\n",
       "    }\n",
       "\n",
       "    .dataframe tbody tr th {\n",
       "        vertical-align: top;\n",
       "    }\n",
       "\n",
       "    .dataframe thead th {\n",
       "        text-align: right;\n",
       "    }\n",
       "</style>\n",
       "<table border=\"1\" class=\"dataframe\">\n",
       "  <thead>\n",
       "    <tr style=\"text-align: right;\">\n",
       "      <th></th>\n",
       "      <th>Gender</th>\n",
       "      <th>Store_type</th>\n",
       "      <th>prod_cat</th>\n",
       "      <th>prod_subcat</th>\n",
       "    </tr>\n",
       "  </thead>\n",
       "  <tbody>\n",
       "    <tr>\n",
       "      <th>count</th>\n",
       "      <td>23044</td>\n",
       "      <td>23053</td>\n",
       "      <td>23053</td>\n",
       "      <td>23053</td>\n",
       "    </tr>\n",
       "    <tr>\n",
       "      <th>unique</th>\n",
       "      <td>2</td>\n",
       "      <td>4</td>\n",
       "      <td>6</td>\n",
       "      <td>18</td>\n",
       "    </tr>\n",
       "    <tr>\n",
       "      <th>top</th>\n",
       "      <td>M</td>\n",
       "      <td>e-Shop</td>\n",
       "      <td>Books</td>\n",
       "      <td>Women</td>\n",
       "    </tr>\n",
       "    <tr>\n",
       "      <th>freq</th>\n",
       "      <td>11811</td>\n",
       "      <td>9311</td>\n",
       "      <td>6069</td>\n",
       "      <td>3048</td>\n",
       "    </tr>\n",
       "  </tbody>\n",
       "</table>\n",
       "</div>"
      ],
      "text/plain": [
       "       Gender Store_type prod_cat prod_subcat\n",
       "count   23044      23053    23053       23053\n",
       "unique      2          4        6          18\n",
       "top         M     e-Shop    Books       Women\n",
       "freq    11811       9311     6069        3048"
      ]
     },
     "execution_count": 14,
     "metadata": {},
     "output_type": "execute_result"
    }
   ],
   "source": [
    "# d. Frequency tables for all the categorical variables\n",
    "customer_final.loc[:,customer_final.dtypes==\"object\"].describe()"
   ]
  },
  {
   "cell_type": "markdown",
   "metadata": {},
   "source": [
    "### 3. Generate histograms for all continuous variables and frequency bars for categorical variables."
   ]
  },
  {
   "cell_type": "markdown",
   "metadata": {},
   "source": [
    "#### Histograms for all continuous variables"
   ]
  },
  {
   "cell_type": "code",
   "execution_count": 15,
   "metadata": {},
   "outputs": [],
   "source": [
    "continuous = customer_final.loc[: ,['Qty', 'Rate', 'Tax','total_amt' ]]"
   ]
  },
  {
   "cell_type": "code",
   "execution_count": 16,
   "metadata": {},
   "outputs": [
    {
     "data": {
      "image/png": "[encoded data removed]",
      "text/plain": [
       "<Figure size 432x288 with 1 Axes>"
      ]
     },
     "metadata": {
      "needs_background": "light"
     },
     "output_type": "display_data"
    },
    {
     "data": {
      "image/png": "[encoded data removed]",
      "text/plain": [
       "<Figure size 432x288 with 1 Axes>"
      ]
     },
     "metadata": {
      "needs_background": "light"
     },
     "output_type": "display_data"
    },
    {
     "data": {
      "image/png": "[encoded data removed]",
      "text/plain": [
       "<Figure size 432x288 with 1 Axes>"
      ]
     },
     "metadata": {
      "needs_background": "light"
     },
     "output_type": "display_data"
    },
    {
     "data": {
      "image/png": "[encoded data removed]",
      "text/plain": [
       "<Figure size 432x288 with 1 Axes>"
      ]
     },
     "metadata": {
      "needs_background": "light"
     },
     "output_type": "display_data"
    }
   ],
   "source": [
    "for var in continuous.columns:\n",
    "    continuous[var].plot( kind = 'hist')\n",
    "    plt.title(var)\n",
    "    plt.show()"
   ]
  },
  {
   "cell_type": "markdown",
   "metadata": {},
   "source": [
    "#### frequency bars for categorical variables"
   ]
  },
  {
   "cell_type": "code",
   "execution_count": 17,
   "metadata": {},
   "outputs": [
    {
     "data": {
      "text/html": [
       "<div>\n",
       "<style scoped>\n",
       "    .dataframe tbody tr th:only-of-type {\n",
       "        vertical-align: middle;\n",
       "    }\n",
       "\n",
       "    .dataframe tbody tr th {\n",
       "        vertical-align: top;\n",
       "    }\n",
       "\n",
       "    .dataframe thead th {\n",
       "        text-align: right;\n",
       "    }\n",
       "</style>\n",
       "<table border=\"1\" class=\"dataframe\">\n",
       "  <thead>\n",
       "    <tr style=\"text-align: right;\">\n",
       "      <th></th>\n",
       "      <th>Gender</th>\n",
       "      <th>Store_type</th>\n",
       "      <th>prod_cat</th>\n",
       "      <th>prod_subcat</th>\n",
       "    </tr>\n",
       "  </thead>\n",
       "  <tbody>\n",
       "    <tr>\n",
       "      <th>0</th>\n",
       "      <td>M</td>\n",
       "      <td>e-Shop</td>\n",
       "      <td>Clothing</td>\n",
       "      <td>Women</td>\n",
       "    </tr>\n",
       "  </tbody>\n",
       "</table>\n",
       "</div>"
      ],
      "text/plain": [
       "  Gender Store_type  prod_cat prod_subcat\n",
       "0      M     e-Shop  Clothing       Women"
      ]
     },
     "execution_count": 17,
     "metadata": {},
     "output_type": "execute_result"
    }
   ],
   "source": [
    "categorical = customer_final.loc[:,customer_final.dtypes==\"object\"]\n",
    "categorical.head(1)"
   ]
  },
  {
   "cell_type": "code",
   "execution_count": 18,
   "metadata": {},
   "outputs": [
    {
     "name": "stderr",
     "output_type": "stream",
     "text": [
      "C:\\Users\\aksha\\anaconda3\\lib\\site-packages\\seaborn\\_decorators.py:36: FutureWarning: Pass the following variable as a keyword arg: x. From version 0.12, the only valid positional argument will be `data`, and passing other arguments without an explicit keyword will result in an error or misinterpretation.\n",
      "  warnings.warn(\n"
     ]
    },
    {
     "data": {
      "image/png": "[encoded data removed]",
      "text/plain": [
       "<Figure size 576x576 with 1 Axes>"
      ]
     },
     "metadata": {
      "needs_background": "light"
     },
     "output_type": "display_data"
    }
   ],
   "source": [
    "plt.figure(figsize=(8,8))\n",
    "sns.countplot(categorical['Gender'])\n",
    "plt.show()"
   ]
  },
  {
   "cell_type": "code",
   "execution_count": 19,
   "metadata": {},
   "outputs": [
    {
     "name": "stderr",
     "output_type": "stream",
     "text": [
      "C:\\Users\\aksha\\anaconda3\\lib\\site-packages\\seaborn\\_decorators.py:36: FutureWarning: Pass the following variable as a keyword arg: x. From version 0.12, the only valid positional argument will be `data`, and passing other arguments without an explicit keyword will result in an error or misinterpretation.\n",
      "  warnings.warn(\n"
     ]
    },
    {
     "data": {
      "image/png": "[encoded data removed]",
      "text/plain": [
       "<Figure size 576x576 with 1 Axes>"
      ]
     },
     "metadata": {
      "needs_background": "light"
     },
     "output_type": "display_data"
    }
   ],
   "source": [
    "plt.figure(figsize=(8,8))\n",
    "sns.countplot(categorical['Store_type'])\n",
    "plt.show()"
   ]
  },
  {
   "cell_type": "code",
   "execution_count": 20,
   "metadata": {},
   "outputs": [
    {
     "name": "stderr",
     "output_type": "stream",
     "text": [
      "C:\\Users\\aksha\\anaconda3\\lib\\site-packages\\seaborn\\_decorators.py:36: FutureWarning: Pass the following variable as a keyword arg: x. From version 0.12, the only valid positional argument will be `data`, and passing other arguments without an explicit keyword will result in an error or misinterpretation.\n",
      "  warnings.warn(\n"
     ]
    },
    {
     "data": {
      "image/png": "[encoded data removed]",
      "text/plain": [
       "<Figure size 576x576 with 1 Axes>"
      ]
     },
     "metadata": {
      "needs_background": "light"
     },
     "output_type": "display_data"
    }
   ],
   "source": [
    "plt.figure(figsize=(8,8))\n",
    "sns.countplot(categorical['prod_cat'])\n",
    "plt.show()"
   ]
  },
  {
   "cell_type": "code",
   "execution_count": 21,
   "metadata": {
    "scrolled": true
   },
   "outputs": [
    {
     "data": {
      "image/png": "[encoded data removed]",
      "text/plain": [
       "<Figure size 576x360 with 1 Axes>"
      ]
     },
     "metadata": {
      "needs_background": "light"
     },
     "output_type": "display_data"
    }
   ],
   "source": [
    "plt.figure(figsize=(8,5))\n",
    "categorical.groupby('prod_subcat')['prod_subcat'].count().plot(kind='barh')\n",
    "plt.show()"
   ]
  },
  {
   "cell_type": "markdown",
   "metadata": {},
   "source": [
    "### 4. Calculate the following information using the merged dataset :\n",
    "a. Time period of the available transaction data"
   ]
  },
  {
   "cell_type": "code",
   "execution_count": 22,
   "metadata": {},
   "outputs": [
    {
     "data": {
      "text/html": [
       "<div>\n",
       "<style scoped>\n",
       "    .dataframe tbody tr th:only-of-type {\n",
       "        vertical-align: middle;\n",
       "    }\n",
       "\n",
       "    .dataframe tbody tr th {\n",
       "        vertical-align: top;\n",
       "    }\n",
       "\n",
       "    .dataframe thead th {\n",
       "        text-align: right;\n",
       "    }\n",
       "</style>\n",
       "<table border=\"1\" class=\"dataframe\">\n",
       "  <thead>\n",
       "    <tr style=\"text-align: right;\">\n",
       "      <th></th>\n",
       "      <th>index</th>\n",
       "      <th>customer_Id</th>\n",
       "      <th>DOB</th>\n",
       "      <th>Gender</th>\n",
       "      <th>city_code</th>\n",
       "      <th>transaction_id</th>\n",
       "      <th>tran_date</th>\n",
       "      <th>prod_subcat_code</th>\n",
       "      <th>prod_cat_code</th>\n",
       "      <th>Qty</th>\n",
       "      <th>Rate</th>\n",
       "      <th>Tax</th>\n",
       "      <th>total_amt</th>\n",
       "      <th>Store_type</th>\n",
       "      <th>prod_cat</th>\n",
       "      <th>prod_subcat</th>\n",
       "    </tr>\n",
       "  </thead>\n",
       "  <tbody>\n",
       "    <tr>\n",
       "      <th>0</th>\n",
       "      <td>21718</td>\n",
       "      <td>273949</td>\n",
       "      <td>1974-01-25</td>\n",
       "      <td>M</td>\n",
       "      <td>4.0</td>\n",
       "      <td>45127479223</td>\n",
       "      <td>2011-01-02</td>\n",
       "      <td>3</td>\n",
       "      <td>5</td>\n",
       "      <td>1</td>\n",
       "      <td>366</td>\n",
       "      <td>38.430</td>\n",
       "      <td>404.430</td>\n",
       "      <td>MBR</td>\n",
       "      <td>Books</td>\n",
       "      <td>Comics</td>\n",
       "    </tr>\n",
       "    <tr>\n",
       "      <th>1</th>\n",
       "      <td>16878</td>\n",
       "      <td>269403</td>\n",
       "      <td>1986-11-09</td>\n",
       "      <td>M</td>\n",
       "      <td>8.0</td>\n",
       "      <td>95376486237</td>\n",
       "      <td>2011-01-02</td>\n",
       "      <td>4</td>\n",
       "      <td>3</td>\n",
       "      <td>5</td>\n",
       "      <td>673</td>\n",
       "      <td>353.325</td>\n",
       "      <td>3718.325</td>\n",
       "      <td>MBR</td>\n",
       "      <td>Electronics</td>\n",
       "      <td>Mobiles</td>\n",
       "    </tr>\n",
       "  </tbody>\n",
       "</table>\n",
       "</div>"
      ],
      "text/plain": [
       "   index  customer_Id        DOB Gender  city_code  transaction_id  tran_date  \\\n",
       "0  21718       273949 1974-01-25      M        4.0     45127479223 2011-01-02   \n",
       "1  16878       269403 1986-11-09      M        8.0     95376486237 2011-01-02   \n",
       "\n",
       "   prod_subcat_code  prod_cat_code  Qty  Rate      Tax  total_amt Store_type  \\\n",
       "0                 3              5    1   366   38.430    404.430        MBR   \n",
       "1                 4              3    5   673  353.325   3718.325        MBR   \n",
       "\n",
       "      prod_cat prod_subcat  \n",
       "0        Books      Comics  \n",
       "1  Electronics     Mobiles  "
      ]
     },
     "execution_count": 22,
     "metadata": {},
     "output_type": "execute_result"
    }
   ],
   "source": [
    "customer_final =customer_final.sort_values( by = 'tran_date').reset_index()\n",
    "customer_final.head(2)"
   ]
  },
  {
   "cell_type": "code",
   "execution_count": 23,
   "metadata": {},
   "outputs": [],
   "source": [
    "min_date= customer_final.tran_date.min()"
   ]
  },
  {
   "cell_type": "code",
   "execution_count": 24,
   "metadata": {},
   "outputs": [],
   "source": [
    "max_date=customer_final.tran_date.max()"
   ]
  },
  {
   "cell_type": "code",
   "execution_count": 25,
   "metadata": {},
   "outputs": [
    {
     "name": "stdout",
     "output_type": "stream",
     "text": [
      "Time period of the available transaction data is from 02-01-2011 to 02-12-2014\n"
     ]
    }
   ],
   "source": [
    "print('Time period of the available transaction data is from '  + pd.Timestamp.strftime(min_date, format = '%d-%m-%Y') \n",
    "      + ' to ' +\n",
    "     pd.Timestamp.strftime(max_date, format = '%d-%m-%Y'))"
   ]
  },
  {
   "cell_type": "markdown",
   "metadata": {},
   "source": [
    "#### b. Count of transactions where the total amount of transaction was negative\n"
   ]
  },
  {
   "cell_type": "code",
   "execution_count": 26,
   "metadata": {},
   "outputs": [
    {
     "data": {
      "text/plain": [
       "2177"
      ]
     },
     "execution_count": 26,
     "metadata": {},
     "output_type": "execute_result"
    }
   ],
   "source": [
    "customer_final.loc[customer_final.total_amt < 0 , 'transaction_id' ].count()"
   ]
  },
  {
   "cell_type": "markdown",
   "metadata": {},
   "source": [
    "### 5. Analyze which product categories are more popular among females vs male customers."
   ]
  },
  {
   "cell_type": "code",
   "execution_count": 27,
   "metadata": {},
   "outputs": [
    {
     "data": {
      "text/html": [
       "<div>\n",
       "<style scoped>\n",
       "    .dataframe tbody tr th:only-of-type {\n",
       "        vertical-align: middle;\n",
       "    }\n",
       "\n",
       "    .dataframe tbody tr th {\n",
       "        vertical-align: top;\n",
       "    }\n",
       "\n",
       "    .dataframe thead th {\n",
       "        text-align: right;\n",
       "    }\n",
       "</style>\n",
       "<table border=\"1\" class=\"dataframe\">\n",
       "  <thead>\n",
       "    <tr style=\"text-align: right;\">\n",
       "      <th></th>\n",
       "      <th>prod_cat</th>\n",
       "      <th>Gender</th>\n",
       "      <th>Qty</th>\n",
       "    </tr>\n",
       "  </thead>\n",
       "  <tbody>\n",
       "    <tr>\n",
       "      <th>0</th>\n",
       "      <td>Bags</td>\n",
       "      <td>F</td>\n",
       "      <td>2362</td>\n",
       "    </tr>\n",
       "    <tr>\n",
       "      <th>1</th>\n",
       "      <td>Bags</td>\n",
       "      <td>M</td>\n",
       "      <td>2346</td>\n",
       "    </tr>\n",
       "    <tr>\n",
       "      <th>2</th>\n",
       "      <td>Books</td>\n",
       "      <td>F</td>\n",
       "      <td>7070</td>\n",
       "    </tr>\n",
       "    <tr>\n",
       "      <th>3</th>\n",
       "      <td>Books</td>\n",
       "      <td>M</td>\n",
       "      <td>7587</td>\n",
       "    </tr>\n",
       "    <tr>\n",
       "      <th>4</th>\n",
       "      <td>Clothing</td>\n",
       "      <td>F</td>\n",
       "      <td>3425</td>\n",
       "    </tr>\n",
       "    <tr>\n",
       "      <th>5</th>\n",
       "      <td>Clothing</td>\n",
       "      <td>M</td>\n",
       "      <td>3748</td>\n",
       "    </tr>\n",
       "    <tr>\n",
       "      <th>6</th>\n",
       "      <td>Electronics</td>\n",
       "      <td>F</td>\n",
       "      <td>5832</td>\n",
       "    </tr>\n",
       "    <tr>\n",
       "      <th>7</th>\n",
       "      <td>Electronics</td>\n",
       "      <td>M</td>\n",
       "      <td>6476</td>\n",
       "    </tr>\n",
       "    <tr>\n",
       "      <th>8</th>\n",
       "      <td>Footwear</td>\n",
       "      <td>F</td>\n",
       "      <td>3716</td>\n",
       "    </tr>\n",
       "    <tr>\n",
       "      <th>9</th>\n",
       "      <td>Footwear</td>\n",
       "      <td>M</td>\n",
       "      <td>3555</td>\n",
       "    </tr>\n",
       "    <tr>\n",
       "      <th>10</th>\n",
       "      <td>Home and kitchen</td>\n",
       "      <td>F</td>\n",
       "      <td>4895</td>\n",
       "    </tr>\n",
       "    <tr>\n",
       "      <th>11</th>\n",
       "      <td>Home and kitchen</td>\n",
       "      <td>M</td>\n",
       "      <td>5041</td>\n",
       "    </tr>\n",
       "  </tbody>\n",
       "</table>\n",
       "</div>"
      ],
      "text/plain": [
       "            prod_cat Gender   Qty\n",
       "0               Bags      F  2362\n",
       "1               Bags      M  2346\n",
       "2              Books      F  7070\n",
       "3              Books      M  7587\n",
       "4           Clothing      F  3425\n",
       "5           Clothing      M  3748\n",
       "6        Electronics      F  5832\n",
       "7        Electronics      M  6476\n",
       "8           Footwear      F  3716\n",
       "9           Footwear      M  3555\n",
       "10  Home and kitchen      F  4895\n",
       "11  Home and kitchen      M  5041"
      ]
     },
     "execution_count": 27,
     "metadata": {},
     "output_type": "execute_result"
    }
   ],
   "source": [
    "prod_gender = customer_final.groupby(['prod_cat', 'Gender'])[['Qty']].sum().reset_index()\n",
    "prod_gender"
   ]
  },
  {
   "cell_type": "markdown",
   "metadata": {},
   "source": [
    "product popular amoung male customers are :  \n",
    "  1. books                                           \n",
    "  2. clothing                                        \n",
    "  3. electronic\n",
    "  4. home & kitchen\n",
    "\n",
    "product popular amoung male customers are :\n",
    " 1. bags\n",
    " 2. footwear"
   ]
  },
  {
   "cell_type": "markdown",
   "metadata": {},
   "source": [
    "### 6. Which City code has the maximum customers and what was the percentage of customers from that city?"
   ]
  },
  {
   "cell_type": "code",
   "execution_count": 28,
   "metadata": {},
   "outputs": [
    {
     "data": {
      "text/plain": [
       "city_code\n",
       "4.0     2422\n",
       "3.0     2411\n",
       "5.0     2360\n",
       "7.0     2356\n",
       "10.0    2333\n",
       "8.0     2330\n",
       "2.0     2270\n",
       "1.0     2258\n",
       "9.0     2178\n",
       "6.0     2127\n",
       "Name: customer_Id, dtype: int64"
      ]
     },
     "execution_count": 28,
     "metadata": {},
     "output_type": "execute_result"
    }
   ],
   "source": [
    "city = customer_final.groupby('city_code')['customer_Id'].count().sort_values(ascending =False)\n",
    "city"
   ]
  },
  {
   "cell_type": "code",
   "execution_count": 29,
   "metadata": {},
   "outputs": [
    {
     "name": "stdout",
     "output_type": "stream",
     "text": [
      "city code 4.0 has max customer and he percentage of customers from that city is  10.51\n"
     ]
    }
   ],
   "source": [
    "# percentage of customers from that city\n",
    "percentage = round(city[4.0] / city.sum() *100, 2)\n",
    "print('city code 4.0 has max customer and he percentage of customers from that city is ' , percentage)"
   ]
  },
  {
   "cell_type": "markdown",
   "metadata": {},
   "source": [
    "### 7. Which store type sells the maximum products by value and by quantity?"
   ]
  },
  {
   "cell_type": "code",
   "execution_count": 30,
   "metadata": {},
   "outputs": [
    {
     "data": {
      "text/html": [
       "<div>\n",
       "<style scoped>\n",
       "    .dataframe tbody tr th:only-of-type {\n",
       "        vertical-align: middle;\n",
       "    }\n",
       "\n",
       "    .dataframe tbody tr th {\n",
       "        vertical-align: top;\n",
       "    }\n",
       "\n",
       "    .dataframe thead th {\n",
       "        text-align: right;\n",
       "    }\n",
       "</style>\n",
       "<table border=\"1\" class=\"dataframe\">\n",
       "  <thead>\n",
       "    <tr style=\"text-align: right;\">\n",
       "      <th></th>\n",
       "      <th>index</th>\n",
       "      <th>customer_Id</th>\n",
       "      <th>DOB</th>\n",
       "      <th>Gender</th>\n",
       "      <th>city_code</th>\n",
       "      <th>transaction_id</th>\n",
       "      <th>tran_date</th>\n",
       "      <th>prod_subcat_code</th>\n",
       "      <th>prod_cat_code</th>\n",
       "      <th>Qty</th>\n",
       "      <th>Rate</th>\n",
       "      <th>Tax</th>\n",
       "      <th>total_amt</th>\n",
       "      <th>Store_type</th>\n",
       "      <th>prod_cat</th>\n",
       "      <th>prod_subcat</th>\n",
       "    </tr>\n",
       "  </thead>\n",
       "  <tbody>\n",
       "    <tr>\n",
       "      <th>0</th>\n",
       "      <td>21718</td>\n",
       "      <td>273949</td>\n",
       "      <td>1974-01-25</td>\n",
       "      <td>M</td>\n",
       "      <td>4.0</td>\n",
       "      <td>45127479223</td>\n",
       "      <td>2011-01-02</td>\n",
       "      <td>3</td>\n",
       "      <td>5</td>\n",
       "      <td>1</td>\n",
       "      <td>366</td>\n",
       "      <td>38.430</td>\n",
       "      <td>404.430</td>\n",
       "      <td>MBR</td>\n",
       "      <td>Books</td>\n",
       "      <td>Comics</td>\n",
       "    </tr>\n",
       "    <tr>\n",
       "      <th>1</th>\n",
       "      <td>16878</td>\n",
       "      <td>269403</td>\n",
       "      <td>1986-11-09</td>\n",
       "      <td>M</td>\n",
       "      <td>8.0</td>\n",
       "      <td>95376486237</td>\n",
       "      <td>2011-01-02</td>\n",
       "      <td>4</td>\n",
       "      <td>3</td>\n",
       "      <td>5</td>\n",
       "      <td>673</td>\n",
       "      <td>353.325</td>\n",
       "      <td>3718.325</td>\n",
       "      <td>MBR</td>\n",
       "      <td>Electronics</td>\n",
       "      <td>Mobiles</td>\n",
       "    </tr>\n",
       "  </tbody>\n",
       "</table>\n",
       "</div>"
      ],
      "text/plain": [
       "   index  customer_Id        DOB Gender  city_code  transaction_id  tran_date  \\\n",
       "0  21718       273949 1974-01-25      M        4.0     45127479223 2011-01-02   \n",
       "1  16878       269403 1986-11-09      M        8.0     95376486237 2011-01-02   \n",
       "\n",
       "   prod_subcat_code  prod_cat_code  Qty  Rate      Tax  total_amt Store_type  \\\n",
       "0                 3              5    1   366   38.430    404.430        MBR   \n",
       "1                 4              3    5   673  353.325   3718.325        MBR   \n",
       "\n",
       "      prod_cat prod_subcat  \n",
       "0        Books      Comics  \n",
       "1  Electronics     Mobiles  "
      ]
     },
     "execution_count": 30,
     "metadata": {},
     "output_type": "execute_result"
    }
   ],
   "source": [
    "customer_final.head(2)"
   ]
  },
  {
   "cell_type": "code",
   "execution_count": 31,
   "metadata": {},
   "outputs": [
    {
     "data": {
      "text/html": [
       "<div>\n",
       "<style scoped>\n",
       "    .dataframe tbody tr th:only-of-type {\n",
       "        vertical-align: middle;\n",
       "    }\n",
       "\n",
       "    .dataframe tbody tr th {\n",
       "        vertical-align: top;\n",
       "    }\n",
       "\n",
       "    .dataframe thead th {\n",
       "        text-align: right;\n",
       "    }\n",
       "</style>\n",
       "<table border=\"1\" class=\"dataframe\">\n",
       "  <thead>\n",
       "    <tr style=\"text-align: right;\">\n",
       "      <th></th>\n",
       "      <th>Rate</th>\n",
       "      <th>Qty</th>\n",
       "    </tr>\n",
       "    <tr>\n",
       "      <th>Store_type</th>\n",
       "      <th></th>\n",
       "      <th></th>\n",
       "    </tr>\n",
       "  </thead>\n",
       "  <tbody>\n",
       "    <tr>\n",
       "      <th>e-Shop</th>\n",
       "      <td>5941001</td>\n",
       "      <td>22763</td>\n",
       "    </tr>\n",
       "    <tr>\n",
       "      <th>MBR</th>\n",
       "      <td>2953253</td>\n",
       "      <td>11194</td>\n",
       "    </tr>\n",
       "    <tr>\n",
       "      <th>Flagship store</th>\n",
       "      <td>2941557</td>\n",
       "      <td>11133</td>\n",
       "    </tr>\n",
       "    <tr>\n",
       "      <th>TeleShop</th>\n",
       "      <td>2834420</td>\n",
       "      <td>10984</td>\n",
       "    </tr>\n",
       "  </tbody>\n",
       "</table>\n",
       "</div>"
      ],
      "text/plain": [
       "                   Rate    Qty\n",
       "Store_type                    \n",
       "e-Shop          5941001  22763\n",
       "MBR             2953253  11194\n",
       "Flagship store  2941557  11133\n",
       "TeleShop        2834420  10984"
      ]
     },
     "execution_count": 31,
     "metadata": {},
     "output_type": "execute_result"
    }
   ],
   "source": [
    "customer_final.groupby('Store_type')[['Rate','Qty' ]].sum().sort_values( by = 'Qty' , ascending =False)"
   ]
  },
  {
   "cell_type": "code",
   "execution_count": 32,
   "metadata": {},
   "outputs": [
    {
     "name": "stdout",
     "output_type": "stream",
     "text": [
      "e-Shop store type sells the maximum products by value and by quantity\n"
     ]
    }
   ],
   "source": [
    "print('e-Shop store type sells the maximum products by value and by quantity')"
   ]
  },
  {
   "cell_type": "markdown",
   "metadata": {},
   "source": [
    "### 8. What was the total amount earned from the \"Electronics\" and \"Clothing\" categories from Flagship Stores?"
   ]
  },
  {
   "cell_type": "code",
   "execution_count": 33,
   "metadata": {},
   "outputs": [
    {
     "data": {
      "text/html": [
       "<div>\n",
       "<style scoped>\n",
       "    .dataframe tbody tr th:only-of-type {\n",
       "        vertical-align: middle;\n",
       "    }\n",
       "\n",
       "    .dataframe tbody tr th {\n",
       "        vertical-align: top;\n",
       "    }\n",
       "\n",
       "    .dataframe thead th {\n",
       "        text-align: right;\n",
       "    }\n",
       "</style>\n",
       "<table border=\"1\" class=\"dataframe\">\n",
       "  <thead>\n",
       "    <tr style=\"text-align: right;\">\n",
       "      <th>Store_type</th>\n",
       "      <th>Flagship store</th>\n",
       "      <th>MBR</th>\n",
       "      <th>TeleShop</th>\n",
       "      <th>e-Shop</th>\n",
       "    </tr>\n",
       "    <tr>\n",
       "      <th>prod_cat</th>\n",
       "      <th></th>\n",
       "      <th></th>\n",
       "      <th></th>\n",
       "      <th></th>\n",
       "    </tr>\n",
       "  </thead>\n",
       "  <tbody>\n",
       "    <tr>\n",
       "      <th>Bags</th>\n",
       "      <td>870548.835</td>\n",
       "      <td>848678.675</td>\n",
       "      <td>789181.055</td>\n",
       "      <td>1616300.075</td>\n",
       "    </tr>\n",
       "    <tr>\n",
       "      <th>Books</th>\n",
       "      <td>2488205.850</td>\n",
       "      <td>2496039.195</td>\n",
       "      <td>2545005.060</td>\n",
       "      <td>5293443.935</td>\n",
       "    </tr>\n",
       "    <tr>\n",
       "      <th>Clothing</th>\n",
       "      <td>1194423.230</td>\n",
       "      <td>1287686.335</td>\n",
       "      <td>1241834.360</td>\n",
       "      <td>2527193.565</td>\n",
       "    </tr>\n",
       "    <tr>\n",
       "      <th>Electronics</th>\n",
       "      <td>2215136.040</td>\n",
       "      <td>2107514.565</td>\n",
       "      <td>1973338.835</td>\n",
       "      <td>4426474.195</td>\n",
       "    </tr>\n",
       "    <tr>\n",
       "      <th>Footwear</th>\n",
       "      <td>1234806.560</td>\n",
       "      <td>1112163.715</td>\n",
       "      <td>1235719.290</td>\n",
       "      <td>2637084.710</td>\n",
       "    </tr>\n",
       "    <tr>\n",
       "      <th>Home and kitchen</th>\n",
       "      <td>1712567.675</td>\n",
       "      <td>1822403.570</td>\n",
       "      <td>1579702.475</td>\n",
       "      <td>3324319.570</td>\n",
       "    </tr>\n",
       "  </tbody>\n",
       "</table>\n",
       "</div>"
      ],
      "text/plain": [
       "Store_type        Flagship store          MBR     TeleShop       e-Shop\n",
       "prod_cat                                                               \n",
       "Bags                  870548.835   848678.675   789181.055  1616300.075\n",
       "Books                2488205.850  2496039.195  2545005.060  5293443.935\n",
       "Clothing             1194423.230  1287686.335  1241834.360  2527193.565\n",
       "Electronics          2215136.040  2107514.565  1973338.835  4426474.195\n",
       "Footwear             1234806.560  1112163.715  1235719.290  2637084.710\n",
       "Home and kitchen     1712567.675  1822403.570  1579702.475  3324319.570"
      ]
     },
     "execution_count": 33,
     "metadata": {},
     "output_type": "execute_result"
    }
   ],
   "source": [
    "store = customer_final.pivot_table( values = 'total_amt', index= 'prod_cat' , columns = 'Store_type', aggfunc= 'sum')\n",
    "store"
   ]
  },
  {
   "cell_type": "code",
   "execution_count": 34,
   "metadata": {},
   "outputs": [
    {
     "name": "stdout",
     "output_type": "stream",
     "text": [
      "The total amount earned from the \"Electronics\" and \"Clothing\" categories from Flagship Stores is  3409559.2700000005\n"
     ]
    }
   ],
   "source": [
    "print('The total amount earned from the \"Electronics\" and \"Clothing\" categories from Flagship Stores is ' , \n",
    "      store.loc[['Electronics', 'Clothing'] , 'Flagship store'].sum())"
   ]
  },
  {
   "cell_type": "markdown",
   "metadata": {},
   "source": [
    "### 9. What was the total amount earned from \"Male\" customers under the \"Electronics\" category?"
   ]
  },
  {
   "cell_type": "code",
   "execution_count": 35,
   "metadata": {},
   "outputs": [
    {
     "data": {
      "text/html": [
       "<div>\n",
       "<style scoped>\n",
       "    .dataframe tbody tr th:only-of-type {\n",
       "        vertical-align: middle;\n",
       "    }\n",
       "\n",
       "    .dataframe tbody tr th {\n",
       "        vertical-align: top;\n",
       "    }\n",
       "\n",
       "    .dataframe thead th {\n",
       "        text-align: right;\n",
       "    }\n",
       "</style>\n",
       "<table border=\"1\" class=\"dataframe\">\n",
       "  <thead>\n",
       "    <tr style=\"text-align: right;\">\n",
       "      <th></th>\n",
       "      <th>index</th>\n",
       "      <th>customer_Id</th>\n",
       "      <th>DOB</th>\n",
       "      <th>Gender</th>\n",
       "      <th>city_code</th>\n",
       "      <th>transaction_id</th>\n",
       "      <th>tran_date</th>\n",
       "      <th>prod_subcat_code</th>\n",
       "      <th>prod_cat_code</th>\n",
       "      <th>Qty</th>\n",
       "      <th>Rate</th>\n",
       "      <th>Tax</th>\n",
       "      <th>total_amt</th>\n",
       "      <th>Store_type</th>\n",
       "      <th>prod_cat</th>\n",
       "      <th>prod_subcat</th>\n",
       "    </tr>\n",
       "  </thead>\n",
       "  <tbody>\n",
       "    <tr>\n",
       "      <th>0</th>\n",
       "      <td>21718</td>\n",
       "      <td>273949</td>\n",
       "      <td>1974-01-25</td>\n",
       "      <td>M</td>\n",
       "      <td>4.0</td>\n",
       "      <td>45127479223</td>\n",
       "      <td>2011-01-02</td>\n",
       "      <td>3</td>\n",
       "      <td>5</td>\n",
       "      <td>1</td>\n",
       "      <td>366</td>\n",
       "      <td>38.430</td>\n",
       "      <td>404.430</td>\n",
       "      <td>MBR</td>\n",
       "      <td>Books</td>\n",
       "      <td>Comics</td>\n",
       "    </tr>\n",
       "    <tr>\n",
       "      <th>1</th>\n",
       "      <td>16878</td>\n",
       "      <td>269403</td>\n",
       "      <td>1986-11-09</td>\n",
       "      <td>M</td>\n",
       "      <td>8.0</td>\n",
       "      <td>95376486237</td>\n",
       "      <td>2011-01-02</td>\n",
       "      <td>4</td>\n",
       "      <td>3</td>\n",
       "      <td>5</td>\n",
       "      <td>673</td>\n",
       "      <td>353.325</td>\n",
       "      <td>3718.325</td>\n",
       "      <td>MBR</td>\n",
       "      <td>Electronics</td>\n",
       "      <td>Mobiles</td>\n",
       "    </tr>\n",
       "  </tbody>\n",
       "</table>\n",
       "</div>"
      ],
      "text/plain": [
       "   index  customer_Id        DOB Gender  city_code  transaction_id  tran_date  \\\n",
       "0  21718       273949 1974-01-25      M        4.0     45127479223 2011-01-02   \n",
       "1  16878       269403 1986-11-09      M        8.0     95376486237 2011-01-02   \n",
       "\n",
       "   prod_subcat_code  prod_cat_code  Qty  Rate      Tax  total_amt Store_type  \\\n",
       "0                 3              5    1   366   38.430    404.430        MBR   \n",
       "1                 4              3    5   673  353.325   3718.325        MBR   \n",
       "\n",
       "      prod_cat prod_subcat  \n",
       "0        Books      Comics  \n",
       "1  Electronics     Mobiles  "
      ]
     },
     "execution_count": 35,
     "metadata": {},
     "output_type": "execute_result"
    }
   ],
   "source": [
    "customer_final.head(2)"
   ]
  },
  {
   "cell_type": "code",
   "execution_count": 36,
   "metadata": {},
   "outputs": [
    {
     "data": {
      "text/html": [
       "<div>\n",
       "<style scoped>\n",
       "    .dataframe tbody tr th:only-of-type {\n",
       "        vertical-align: middle;\n",
       "    }\n",
       "\n",
       "    .dataframe tbody tr th {\n",
       "        vertical-align: top;\n",
       "    }\n",
       "\n",
       "    .dataframe thead th {\n",
       "        text-align: right;\n",
       "    }\n",
       "</style>\n",
       "<table border=\"1\" class=\"dataframe\">\n",
       "  <thead>\n",
       "    <tr style=\"text-align: right;\">\n",
       "      <th>prod_cat</th>\n",
       "      <th>Bags</th>\n",
       "      <th>Books</th>\n",
       "      <th>Clothing</th>\n",
       "      <th>Electronics</th>\n",
       "      <th>Footwear</th>\n",
       "      <th>Home and kitchen</th>\n",
       "    </tr>\n",
       "    <tr>\n",
       "      <th>Gender</th>\n",
       "      <th></th>\n",
       "      <th></th>\n",
       "      <th></th>\n",
       "      <th></th>\n",
       "      <th></th>\n",
       "      <th></th>\n",
       "    </tr>\n",
       "  </thead>\n",
       "  <tbody>\n",
       "    <tr>\n",
       "      <th>F</th>\n",
       "      <td>2077985.65</td>\n",
       "      <td>6164692.235</td>\n",
       "      <td>3026750.805</td>\n",
       "      <td>5019354.210</td>\n",
       "      <td>3202552.99</td>\n",
       "      <td>4132177.335</td>\n",
       "    </tr>\n",
       "    <tr>\n",
       "      <th>M</th>\n",
       "      <td>2046722.99</td>\n",
       "      <td>6645972.775</td>\n",
       "      <td>3224079.495</td>\n",
       "      <td>5703109.425</td>\n",
       "      <td>3014672.05</td>\n",
       "      <td>4301075.480</td>\n",
       "    </tr>\n",
       "  </tbody>\n",
       "</table>\n",
       "</div>"
      ],
      "text/plain": [
       "prod_cat        Bags        Books     Clothing  Electronics    Footwear  \\\n",
       "Gender                                                                    \n",
       "F         2077985.65  6164692.235  3026750.805  5019354.210  3202552.99   \n",
       "M         2046722.99  6645972.775  3224079.495  5703109.425  3014672.05   \n",
       "\n",
       "prod_cat  Home and kitchen  \n",
       "Gender                      \n",
       "F              4132177.335  \n",
       "M              4301075.480  "
      ]
     },
     "execution_count": 36,
     "metadata": {},
     "output_type": "execute_result"
    }
   ],
   "source": [
    "gender = customer_final.pivot_table( values = 'total_amt' , index= 'Gender' , columns= 'prod_cat', aggfunc= 'sum')\n",
    "gender"
   ]
  },
  {
   "cell_type": "code",
   "execution_count": 37,
   "metadata": {},
   "outputs": [
    {
     "name": "stdout",
     "output_type": "stream",
     "text": [
      "The total amount earned from \"Male\" customers under the \"Electronics\" category is  5703109.43\n"
     ]
    }
   ],
   "source": [
    "print('The total amount earned from \"Male\" customers under the \"Electronics\" category is ', round(gender.loc['M', 'Electronics'],2))"
   ]
  },
  {
   "cell_type": "markdown",
   "metadata": {},
   "source": [
    "### 10. How many customers have more than 10 unique transactions, after removing all transactions which have any negative amounts?"
   ]
  },
  {
   "cell_type": "code",
   "execution_count": 38,
   "metadata": {},
   "outputs": [
    {
     "data": {
      "text/html": [
       "<div>\n",
       "<style scoped>\n",
       "    .dataframe tbody tr th:only-of-type {\n",
       "        vertical-align: middle;\n",
       "    }\n",
       "\n",
       "    .dataframe tbody tr th {\n",
       "        vertical-align: top;\n",
       "    }\n",
       "\n",
       "    .dataframe thead th {\n",
       "        text-align: right;\n",
       "    }\n",
       "</style>\n",
       "<table border=\"1\" class=\"dataframe\">\n",
       "  <thead>\n",
       "    <tr style=\"text-align: right;\">\n",
       "      <th></th>\n",
       "      <th>index</th>\n",
       "      <th>customer_Id</th>\n",
       "      <th>DOB</th>\n",
       "      <th>Gender</th>\n",
       "      <th>city_code</th>\n",
       "      <th>transaction_id</th>\n",
       "      <th>tran_date</th>\n",
       "      <th>prod_subcat_code</th>\n",
       "      <th>prod_cat_code</th>\n",
       "      <th>Qty</th>\n",
       "      <th>Rate</th>\n",
       "      <th>Tax</th>\n",
       "      <th>total_amt</th>\n",
       "      <th>Store_type</th>\n",
       "      <th>prod_cat</th>\n",
       "      <th>prod_subcat</th>\n",
       "    </tr>\n",
       "  </thead>\n",
       "  <tbody>\n",
       "    <tr>\n",
       "      <th>0</th>\n",
       "      <td>21718</td>\n",
       "      <td>273949</td>\n",
       "      <td>1974-01-25</td>\n",
       "      <td>M</td>\n",
       "      <td>4.0</td>\n",
       "      <td>45127479223</td>\n",
       "      <td>2011-01-02</td>\n",
       "      <td>3</td>\n",
       "      <td>5</td>\n",
       "      <td>1</td>\n",
       "      <td>366</td>\n",
       "      <td>38.430</td>\n",
       "      <td>404.430</td>\n",
       "      <td>MBR</td>\n",
       "      <td>Books</td>\n",
       "      <td>Comics</td>\n",
       "    </tr>\n",
       "    <tr>\n",
       "      <th>1</th>\n",
       "      <td>16878</td>\n",
       "      <td>269403</td>\n",
       "      <td>1986-11-09</td>\n",
       "      <td>M</td>\n",
       "      <td>8.0</td>\n",
       "      <td>95376486237</td>\n",
       "      <td>2011-01-02</td>\n",
       "      <td>4</td>\n",
       "      <td>3</td>\n",
       "      <td>5</td>\n",
       "      <td>673</td>\n",
       "      <td>353.325</td>\n",
       "      <td>3718.325</td>\n",
       "      <td>MBR</td>\n",
       "      <td>Electronics</td>\n",
       "      <td>Mobiles</td>\n",
       "    </tr>\n",
       "  </tbody>\n",
       "</table>\n",
       "</div>"
      ],
      "text/plain": [
       "   index  customer_Id        DOB Gender  city_code  transaction_id  tran_date  \\\n",
       "0  21718       273949 1974-01-25      M        4.0     45127479223 2011-01-02   \n",
       "1  16878       269403 1986-11-09      M        8.0     95376486237 2011-01-02   \n",
       "\n",
       "   prod_subcat_code  prod_cat_code  Qty  Rate      Tax  total_amt Store_type  \\\n",
       "0                 3              5    1   366   38.430    404.430        MBR   \n",
       "1                 4              3    5   673  353.325   3718.325        MBR   \n",
       "\n",
       "      prod_cat prod_subcat  \n",
       "0        Books      Comics  \n",
       "1  Electronics     Mobiles  "
      ]
     },
     "execution_count": 38,
     "metadata": {},
     "output_type": "execute_result"
    }
   ],
   "source": [
    "positive_trans = customer_final.loc[customer_final['total_amt'] >0 , :]\n",
    "positive_trans.head(2)"
   ]
  },
  {
   "cell_type": "code",
   "execution_count": null,
   "metadata": {},
   "outputs": [],
   "source": []
  },
  {
   "cell_type": "code",
   "execution_count": 39,
   "metadata": {},
   "outputs": [
    {
     "data": {
      "text/html": [
       "<div>\n",
       "<style scoped>\n",
       "    .dataframe tbody tr th:only-of-type {\n",
       "        vertical-align: middle;\n",
       "    }\n",
       "\n",
       "    .dataframe tbody tr th {\n",
       "        vertical-align: top;\n",
       "    }\n",
       "\n",
       "    .dataframe thead th {\n",
       "        text-align: right;\n",
       "    }\n",
       "</style>\n",
       "<table border=\"1\" class=\"dataframe\">\n",
       "  <thead>\n",
       "    <tr style=\"text-align: right;\">\n",
       "      <th></th>\n",
       "      <th>customer_Id</th>\n",
       "      <th>prod_cat</th>\n",
       "      <th>prod_subcat</th>\n",
       "      <th>transaction_id</th>\n",
       "    </tr>\n",
       "  </thead>\n",
       "  <tbody>\n",
       "    <tr>\n",
       "      <th>0</th>\n",
       "      <td>266783</td>\n",
       "      <td>Books</td>\n",
       "      <td>Non-Fiction</td>\n",
       "      <td>1</td>\n",
       "    </tr>\n",
       "    <tr>\n",
       "      <th>1</th>\n",
       "      <td>266783</td>\n",
       "      <td>Clothing</td>\n",
       "      <td>Mens</td>\n",
       "      <td>2</td>\n",
       "    </tr>\n",
       "  </tbody>\n",
       "</table>\n",
       "</div>"
      ],
      "text/plain": [
       "   customer_Id  prod_cat  prod_subcat  transaction_id\n",
       "0       266783     Books  Non-Fiction               1\n",
       "1       266783  Clothing         Mens               2"
      ]
     },
     "execution_count": 39,
     "metadata": {},
     "output_type": "execute_result"
    }
   ],
   "source": [
    "unique = positive_trans.groupby( ['customer_Id', 'prod_cat', 'prod_subcat'] )[['transaction_id']].count().reset_index()\n",
    "unique.head(2)"
   ]
  },
  {
   "cell_type": "code",
   "execution_count": 40,
   "metadata": {},
   "outputs": [
    {
     "data": {
      "text/html": [
       "<div>\n",
       "<style scoped>\n",
       "    .dataframe tbody tr th:only-of-type {\n",
       "        vertical-align: middle;\n",
       "    }\n",
       "\n",
       "    .dataframe tbody tr th {\n",
       "        vertical-align: top;\n",
       "    }\n",
       "\n",
       "    .dataframe thead th {\n",
       "        text-align: right;\n",
       "    }\n",
       "</style>\n",
       "<table border=\"1\" class=\"dataframe\">\n",
       "  <thead>\n",
       "    <tr style=\"text-align: right;\">\n",
       "      <th></th>\n",
       "      <th>customer_Id</th>\n",
       "      <th>transaction_id</th>\n",
       "    </tr>\n",
       "  </thead>\n",
       "  <tbody>\n",
       "    <tr>\n",
       "      <th>0</th>\n",
       "      <td>266783</td>\n",
       "      <td>3</td>\n",
       "    </tr>\n",
       "    <tr>\n",
       "      <th>1</th>\n",
       "      <td>266784</td>\n",
       "      <td>3</td>\n",
       "    </tr>\n",
       "  </tbody>\n",
       "</table>\n",
       "</div>"
      ],
      "text/plain": [
       "   customer_Id  transaction_id\n",
       "0       266783               3\n",
       "1       266784               3"
      ]
     },
     "execution_count": 40,
     "metadata": {},
     "output_type": "execute_result"
    }
   ],
   "source": [
    "unique_cnt = unique.groupby(['customer_Id'])[['transaction_id']].count().reset_index()\n",
    "unique_cnt.head(2)"
   ]
  },
  {
   "cell_type": "code",
   "execution_count": 41,
   "metadata": {},
   "outputs": [
    {
     "data": {
      "text/html": [
       "<div>\n",
       "<style scoped>\n",
       "    .dataframe tbody tr th:only-of-type {\n",
       "        vertical-align: middle;\n",
       "    }\n",
       "\n",
       "    .dataframe tbody tr th {\n",
       "        vertical-align: top;\n",
       "    }\n",
       "\n",
       "    .dataframe thead th {\n",
       "        text-align: right;\n",
       "    }\n",
       "</style>\n",
       "<table border=\"1\" class=\"dataframe\">\n",
       "  <thead>\n",
       "    <tr style=\"text-align: right;\">\n",
       "      <th></th>\n",
       "      <th>customer_Id</th>\n",
       "      <th>transaction_id</th>\n",
       "    </tr>\n",
       "  </thead>\n",
       "  <tbody>\n",
       "  </tbody>\n",
       "</table>\n",
       "</div>"
      ],
      "text/plain": [
       "Empty DataFrame\n",
       "Columns: [customer_Id, transaction_id]\n",
       "Index: []"
      ]
     },
     "execution_count": 41,
     "metadata": {},
     "output_type": "execute_result"
    }
   ],
   "source": [
    "unique_cnt[unique_cnt['transaction_id'] >10]"
   ]
  },
  {
   "cell_type": "code",
   "execution_count": 42,
   "metadata": {},
   "outputs": [
    {
     "name": "stdout",
     "output_type": "stream",
     "text": [
      "there is no customers have more than 10 unique transactions\n"
     ]
    }
   ],
   "source": [
    "print('there is no customers have more than 10 unique transactions')"
   ]
  },
  {
   "cell_type": "markdown",
   "metadata": {},
   "source": [
    "### 11. For all customers aged between 25 - 35, find out:\n",
    "#### a. What was the total amount spent for “Electronics” and “Books” product categories?"
   ]
  },
  {
   "cell_type": "code",
   "execution_count": 61,
   "metadata": {},
   "outputs": [
    {
     "data": {
      "text/html": [
       "<div>\n",
       "<style scoped>\n",
       "    .dataframe tbody tr th:only-of-type {\n",
       "        vertical-align: middle;\n",
       "    }\n",
       "\n",
       "    .dataframe tbody tr th {\n",
       "        vertical-align: top;\n",
       "    }\n",
       "\n",
       "    .dataframe thead th {\n",
       "        text-align: right;\n",
       "    }\n",
       "</style>\n",
       "<table border=\"1\" class=\"dataframe\">\n",
       "  <thead>\n",
       "    <tr style=\"text-align: right;\">\n",
       "      <th></th>\n",
       "      <th>index</th>\n",
       "      <th>customer_Id</th>\n",
       "      <th>DOB</th>\n",
       "      <th>Gender</th>\n",
       "      <th>city_code</th>\n",
       "      <th>transaction_id</th>\n",
       "      <th>tran_date</th>\n",
       "      <th>prod_subcat_code</th>\n",
       "      <th>prod_cat_code</th>\n",
       "      <th>Qty</th>\n",
       "      <th>Rate</th>\n",
       "      <th>Tax</th>\n",
       "      <th>total_amt</th>\n",
       "      <th>Store_type</th>\n",
       "      <th>prod_cat</th>\n",
       "      <th>prod_subcat</th>\n",
       "      <th>age</th>\n",
       "      <th>age_group</th>\n",
       "    </tr>\n",
       "  </thead>\n",
       "  <tbody>\n",
       "    <tr>\n",
       "      <th>0</th>\n",
       "      <td>21718</td>\n",
       "      <td>273949</td>\n",
       "      <td>1974-01-25</td>\n",
       "      <td>M</td>\n",
       "      <td>4.0</td>\n",
       "      <td>45127479223</td>\n",
       "      <td>2011-01-02</td>\n",
       "      <td>3</td>\n",
       "      <td>5</td>\n",
       "      <td>1</td>\n",
       "      <td>366</td>\n",
       "      <td>38.430</td>\n",
       "      <td>404.430</td>\n",
       "      <td>MBR</td>\n",
       "      <td>Books</td>\n",
       "      <td>Comics</td>\n",
       "      <td>47.0</td>\n",
       "      <td>45-55</td>\n",
       "    </tr>\n",
       "    <tr>\n",
       "      <th>1</th>\n",
       "      <td>16878</td>\n",
       "      <td>269403</td>\n",
       "      <td>1986-11-09</td>\n",
       "      <td>M</td>\n",
       "      <td>8.0</td>\n",
       "      <td>95376486237</td>\n",
       "      <td>2011-01-02</td>\n",
       "      <td>4</td>\n",
       "      <td>3</td>\n",
       "      <td>5</td>\n",
       "      <td>673</td>\n",
       "      <td>353.325</td>\n",
       "      <td>3718.325</td>\n",
       "      <td>MBR</td>\n",
       "      <td>Electronics</td>\n",
       "      <td>Mobiles</td>\n",
       "      <td>34.0</td>\n",
       "      <td>25-35</td>\n",
       "    </tr>\n",
       "  </tbody>\n",
       "</table>\n",
       "</div>"
      ],
      "text/plain": [
       "   index  customer_Id        DOB Gender  city_code  transaction_id  tran_date  \\\n",
       "0  21718       273949 1974-01-25      M        4.0     45127479223 2011-01-02   \n",
       "1  16878       269403 1986-11-09      M        8.0     95376486237 2011-01-02   \n",
       "\n",
       "   prod_subcat_code  prod_cat_code  Qty  Rate      Tax  total_amt Store_type  \\\n",
       "0                 3              5    1   366   38.430    404.430        MBR   \n",
       "1                 4              3    5   673  353.325   3718.325        MBR   \n",
       "\n",
       "      prod_cat prod_subcat   age age_group  \n",
       "0        Books      Comics  47.0     45-55  \n",
       "1  Electronics     Mobiles  34.0     25-35  "
      ]
     },
     "execution_count": 61,
     "metadata": {},
     "output_type": "execute_result"
    }
   ],
   "source": [
    "customer_final['age'] = (pd.Timestamp( 'now') - customer_final['DOB']).astype('<m8[Y]')\n",
    "customer_final.head(2)"
   ]
  },
  {
   "cell_type": "code",
   "execution_count": 55,
   "metadata": {},
   "outputs": [
    {
     "data": {
      "text/html": [
       "<div>\n",
       "<style scoped>\n",
       "    .dataframe tbody tr th:only-of-type {\n",
       "        vertical-align: middle;\n",
       "    }\n",
       "\n",
       "    .dataframe tbody tr th {\n",
       "        vertical-align: top;\n",
       "    }\n",
       "\n",
       "    .dataframe thead th {\n",
       "        text-align: right;\n",
       "    }\n",
       "</style>\n",
       "<table border=\"1\" class=\"dataframe\">\n",
       "  <thead>\n",
       "    <tr style=\"text-align: right;\">\n",
       "      <th></th>\n",
       "      <th>index</th>\n",
       "      <th>customer_Id</th>\n",
       "      <th>DOB</th>\n",
       "      <th>Gender</th>\n",
       "      <th>city_code</th>\n",
       "      <th>transaction_id</th>\n",
       "      <th>tran_date</th>\n",
       "      <th>prod_subcat_code</th>\n",
       "      <th>prod_cat_code</th>\n",
       "      <th>Qty</th>\n",
       "      <th>Rate</th>\n",
       "      <th>Tax</th>\n",
       "      <th>total_amt</th>\n",
       "      <th>Store_type</th>\n",
       "      <th>prod_cat</th>\n",
       "      <th>prod_subcat</th>\n",
       "      <th>age</th>\n",
       "      <th>age_group</th>\n",
       "    </tr>\n",
       "  </thead>\n",
       "  <tbody>\n",
       "    <tr>\n",
       "      <th>0</th>\n",
       "      <td>21718</td>\n",
       "      <td>273949</td>\n",
       "      <td>1974-01-25</td>\n",
       "      <td>M</td>\n",
       "      <td>4.0</td>\n",
       "      <td>45127479223</td>\n",
       "      <td>2011-01-02</td>\n",
       "      <td>3</td>\n",
       "      <td>5</td>\n",
       "      <td>1</td>\n",
       "      <td>366</td>\n",
       "      <td>38.430</td>\n",
       "      <td>404.430</td>\n",
       "      <td>MBR</td>\n",
       "      <td>Books</td>\n",
       "      <td>Comics</td>\n",
       "      <td>47.0</td>\n",
       "      <td>45-55</td>\n",
       "    </tr>\n",
       "    <tr>\n",
       "      <th>1</th>\n",
       "      <td>16878</td>\n",
       "      <td>269403</td>\n",
       "      <td>1986-11-09</td>\n",
       "      <td>M</td>\n",
       "      <td>8.0</td>\n",
       "      <td>95376486237</td>\n",
       "      <td>2011-01-02</td>\n",
       "      <td>4</td>\n",
       "      <td>3</td>\n",
       "      <td>5</td>\n",
       "      <td>673</td>\n",
       "      <td>353.325</td>\n",
       "      <td>3718.325</td>\n",
       "      <td>MBR</td>\n",
       "      <td>Electronics</td>\n",
       "      <td>Mobiles</td>\n",
       "      <td>34.0</td>\n",
       "      <td>25-35</td>\n",
       "    </tr>\n",
       "  </tbody>\n",
       "</table>\n",
       "</div>"
      ],
      "text/plain": [
       "   index  customer_Id        DOB Gender  city_code  transaction_id  tran_date  \\\n",
       "0  21718       273949 1974-01-25      M        4.0     45127479223 2011-01-02   \n",
       "1  16878       269403 1986-11-09      M        8.0     95376486237 2011-01-02   \n",
       "\n",
       "   prod_subcat_code  prod_cat_code  Qty  Rate      Tax  total_amt Store_type  \\\n",
       "0                 3              5    1   366   38.430    404.430        MBR   \n",
       "1                 4              3    5   673  353.325   3718.325        MBR   \n",
       "\n",
       "      prod_cat prod_subcat   age age_group  \n",
       "0        Books      Comics  47.0     45-55  \n",
       "1  Electronics     Mobiles  34.0     25-35  "
      ]
     },
     "execution_count": 55,
     "metadata": {},
     "output_type": "execute_result"
    }
   ],
   "source": [
    "customer_final['age_group'] = pd.cut(customer_final.age , bins = np.arange(15,65,10) ,labels=['15-25','25-35','35-45','45-55'] )\n",
    "customer_final.head(2)"
   ]
  },
  {
   "cell_type": "code",
   "execution_count": 60,
   "metadata": {},
   "outputs": [
    {
     "data": {
      "text/html": [
       "<div>\n",
       "<style scoped>\n",
       "    .dataframe tbody tr th:only-of-type {\n",
       "        vertical-align: middle;\n",
       "    }\n",
       "\n",
       "    .dataframe tbody tr th {\n",
       "        vertical-align: top;\n",
       "    }\n",
       "\n",
       "    .dataframe thead th {\n",
       "        text-align: right;\n",
       "    }\n",
       "</style>\n",
       "<table border=\"1\" class=\"dataframe\">\n",
       "  <thead>\n",
       "    <tr style=\"text-align: right;\">\n",
       "      <th></th>\n",
       "      <th>index</th>\n",
       "      <th>customer_Id</th>\n",
       "      <th>DOB</th>\n",
       "      <th>Gender</th>\n",
       "      <th>city_code</th>\n",
       "      <th>transaction_id</th>\n",
       "      <th>tran_date</th>\n",
       "      <th>prod_subcat_code</th>\n",
       "      <th>prod_cat_code</th>\n",
       "      <th>Qty</th>\n",
       "      <th>Rate</th>\n",
       "      <th>Tax</th>\n",
       "      <th>total_amt</th>\n",
       "      <th>Store_type</th>\n",
       "      <th>prod_cat</th>\n",
       "      <th>prod_subcat</th>\n",
       "      <th>age</th>\n",
       "      <th>age_group</th>\n",
       "    </tr>\n",
       "  </thead>\n",
       "  <tbody>\n",
       "    <tr>\n",
       "      <th>1</th>\n",
       "      <td>16878</td>\n",
       "      <td>269403</td>\n",
       "      <td>1986-11-09</td>\n",
       "      <td>M</td>\n",
       "      <td>8.0</td>\n",
       "      <td>95376486237</td>\n",
       "      <td>2011-01-02</td>\n",
       "      <td>4</td>\n",
       "      <td>3</td>\n",
       "      <td>5</td>\n",
       "      <td>673</td>\n",
       "      <td>353.325</td>\n",
       "      <td>3718.325</td>\n",
       "      <td>MBR</td>\n",
       "      <td>Electronics</td>\n",
       "      <td>Mobiles</td>\n",
       "      <td>34.0</td>\n",
       "      <td>25-35</td>\n",
       "    </tr>\n",
       "    <tr>\n",
       "      <th>4</th>\n",
       "      <td>11320</td>\n",
       "      <td>268624</td>\n",
       "      <td>1986-09-18</td>\n",
       "      <td>F</td>\n",
       "      <td>1.0</td>\n",
       "      <td>36332303449</td>\n",
       "      <td>2011-01-02</td>\n",
       "      <td>10</td>\n",
       "      <td>6</td>\n",
       "      <td>-4</td>\n",
       "      <td>-295</td>\n",
       "      <td>123.900</td>\n",
       "      <td>-1303.900</td>\n",
       "      <td>Flagship store</td>\n",
       "      <td>Home and kitchen</td>\n",
       "      <td>Kitchen</td>\n",
       "      <td>34.0</td>\n",
       "      <td>25-35</td>\n",
       "    </tr>\n",
       "  </tbody>\n",
       "</table>\n",
       "</div>"
      ],
      "text/plain": [
       "   index  customer_Id        DOB Gender  city_code  transaction_id  tran_date  \\\n",
       "1  16878       269403 1986-11-09      M        8.0     95376486237 2011-01-02   \n",
       "4  11320       268624 1986-09-18      F        1.0     36332303449 2011-01-02   \n",
       "\n",
       "   prod_subcat_code  prod_cat_code  Qty  Rate      Tax  total_amt  \\\n",
       "1                 4              3    5   673  353.325   3718.325   \n",
       "4                10              6   -4  -295  123.900  -1303.900   \n",
       "\n",
       "       Store_type          prod_cat prod_subcat   age age_group  \n",
       "1             MBR       Electronics     Mobiles  34.0     25-35  \n",
       "4  Flagship store  Home and kitchen     Kitchen  34.0     25-35  "
      ]
     },
     "execution_count": 60,
     "metadata": {},
     "output_type": "execute_result"
    }
   ],
   "source": [
    "cust_25_35 = customer_final.loc[customer_final.age_group == '25-35']\n",
    "cust_25_35.head(2)"
   ]
  },
  {
   "cell_type": "code",
   "execution_count": 65,
   "metadata": {},
   "outputs": [
    {
     "name": "stdout",
     "output_type": "stream",
     "text": [
      "Total spend on Books and Electronics by 25-35 age group are\n"
     ]
    },
    {
     "data": {
      "text/html": [
       "<div>\n",
       "<style scoped>\n",
       "    .dataframe tbody tr th:only-of-type {\n",
       "        vertical-align: middle;\n",
       "    }\n",
       "\n",
       "    .dataframe tbody tr th {\n",
       "        vertical-align: top;\n",
       "    }\n",
       "\n",
       "    .dataframe thead th {\n",
       "        text-align: right;\n",
       "    }\n",
       "</style>\n",
       "<table border=\"1\" class=\"dataframe\">\n",
       "  <thead>\n",
       "    <tr style=\"text-align: right;\">\n",
       "      <th></th>\n",
       "      <th>prod_cat</th>\n",
       "      <th>total_amt</th>\n",
       "    </tr>\n",
       "  </thead>\n",
       "  <tbody>\n",
       "    <tr>\n",
       "      <th>0</th>\n",
       "      <td>Books</td>\n",
       "      <td>4047297.865</td>\n",
       "    </tr>\n",
       "    <tr>\n",
       "      <th>1</th>\n",
       "      <td>Electronics</td>\n",
       "      <td>3592778.215</td>\n",
       "    </tr>\n",
       "  </tbody>\n",
       "</table>\n",
       "</div>"
      ],
      "text/plain": [
       "      prod_cat    total_amt\n",
       "0        Books  4047297.865\n",
       "1  Electronics  3592778.215"
      ]
     },
     "execution_count": 65,
     "metadata": {},
     "output_type": "execute_result"
    }
   ],
   "source": [
    "spend_cat = cust_25_35.groupby('prod_cat')[['total_amt']].sum()\n",
    "\n",
    "print('Total spend on Books and Electronics by 25-35 age group are')\n",
    "\n",
    "spend_cat.loc[['Books','Electronics']].reset_index()"
   ]
  },
  {
   "cell_type": "markdown",
   "metadata": {},
   "source": [
    "### b. What was the total amount spent by these customers between 1st Jan, 2014 to 1st Mar, 2014?"
   ]
  },
  {
   "cell_type": "code",
   "execution_count": 69,
   "metadata": {},
   "outputs": [
    {
     "data": {
      "text/html": [
       "<div>\n",
       "<style scoped>\n",
       "    .dataframe tbody tr th:only-of-type {\n",
       "        vertical-align: middle;\n",
       "    }\n",
       "\n",
       "    .dataframe tbody tr th {\n",
       "        vertical-align: top;\n",
       "    }\n",
       "\n",
       "    .dataframe thead th {\n",
       "        text-align: right;\n",
       "    }\n",
       "</style>\n",
       "<table border=\"1\" class=\"dataframe\">\n",
       "  <thead>\n",
       "    <tr style=\"text-align: right;\">\n",
       "      <th></th>\n",
       "      <th>index</th>\n",
       "      <th>customer_Id</th>\n",
       "      <th>DOB</th>\n",
       "      <th>Gender</th>\n",
       "      <th>city_code</th>\n",
       "      <th>transaction_id</th>\n",
       "      <th>tran_date</th>\n",
       "      <th>prod_subcat_code</th>\n",
       "      <th>prod_cat_code</th>\n",
       "      <th>Qty</th>\n",
       "      <th>Rate</th>\n",
       "      <th>Tax</th>\n",
       "      <th>total_amt</th>\n",
       "      <th>Store_type</th>\n",
       "      <th>prod_cat</th>\n",
       "      <th>prod_subcat</th>\n",
       "      <th>age</th>\n",
       "      <th>age_group</th>\n",
       "    </tr>\n",
       "  </thead>\n",
       "  <tbody>\n",
       "    <tr>\n",
       "      <th>21991</th>\n",
       "      <td>4607</td>\n",
       "      <td>273627</td>\n",
       "      <td>1985-06-18</td>\n",
       "      <td>M</td>\n",
       "      <td>8.0</td>\n",
       "      <td>69368153122</td>\n",
       "      <td>2014-01-01</td>\n",
       "      <td>7</td>\n",
       "      <td>5</td>\n",
       "      <td>3</td>\n",
       "      <td>311</td>\n",
       "      <td>97.965</td>\n",
       "      <td>1030.965</td>\n",
       "      <td>TeleShop</td>\n",
       "      <td>Books</td>\n",
       "      <td>Fiction</td>\n",
       "      <td>35.0</td>\n",
       "      <td>25-35</td>\n",
       "    </tr>\n",
       "    <tr>\n",
       "      <th>21993</th>\n",
       "      <td>4599</td>\n",
       "      <td>268886</td>\n",
       "      <td>1992-08-03</td>\n",
       "      <td>M</td>\n",
       "      <td>1.0</td>\n",
       "      <td>63635040022</td>\n",
       "      <td>2014-01-01</td>\n",
       "      <td>3</td>\n",
       "      <td>2</td>\n",
       "      <td>5</td>\n",
       "      <td>652</td>\n",
       "      <td>342.300</td>\n",
       "      <td>3602.300</td>\n",
       "      <td>e-Shop</td>\n",
       "      <td>Footwear</td>\n",
       "      <td>Women</td>\n",
       "      <td>28.0</td>\n",
       "      <td>25-35</td>\n",
       "    </tr>\n",
       "  </tbody>\n",
       "</table>\n",
       "</div>"
      ],
      "text/plain": [
       "       index  customer_Id        DOB Gender  city_code  transaction_id  \\\n",
       "21991   4607       273627 1985-06-18      M        8.0     69368153122   \n",
       "21993   4599       268886 1992-08-03      M        1.0     63635040022   \n",
       "\n",
       "       tran_date  prod_subcat_code  prod_cat_code  Qty  Rate      Tax  \\\n",
       "21991 2014-01-01                 7              5    3   311   97.965   \n",
       "21993 2014-01-01                 3              2    5   652  342.300   \n",
       "\n",
       "       total_amt Store_type  prod_cat prod_subcat   age age_group  \n",
       "21991   1030.965   TeleShop     Books     Fiction  35.0     25-35  \n",
       "21993   3602.300     e-Shop  Footwear       Women  28.0     25-35  "
      ]
     },
     "execution_count": 69,
     "metadata": {},
     "output_type": "execute_result"
    }
   ],
   "source": [
    "cust_trans = cust_25_35.loc[(cust_25_35.tran_date >= '2014-01-01')&(cust_25_35.tran_date <='2014-03-01' )]\n",
    "cust_trans.head(2)"
   ]
  },
  {
   "cell_type": "code",
   "execution_count": 74,
   "metadata": {},
   "outputs": [
    {
     "name": "stdout",
     "output_type": "stream",
     "text": [
      "The total amount spent by these customers between 1st Jan, 2014 to 1st Mar, 2014 is 521984.32\n"
     ]
    }
   ],
   "source": [
    "total_amount = round(cust_trans.total_amt.sum(),2)\n",
    "print('The total amount spent by these customers between 1st Jan, 2014 to 1st Mar, 2014 is', total_amount)"
   ]
  },
  {
   "cell_type": "code",
   "execution_count": null,
   "metadata": {},
   "outputs": [],
   "source": []
  }
 ],
 "metadata": {
  "kernelspec": {
   "display_name": "Python 3",
   "language": "python",
   "name": "python3"
  },
  "language_info": {
   "codemirror_mode": {
    "name": "ipython",
    "version": 3
   },
   "file_extension": ".py",
   "mimetype": "text/x-python",
   "name": "python",
   "nbconvert_exporter": "python",
   "pygments_lexer": "ipython3",
   "version": "3.8.5"
  }
 },
 "nbformat": 4,
 "nbformat_minor": 4
}
